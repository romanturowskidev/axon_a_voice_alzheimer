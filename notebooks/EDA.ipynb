{
 "cells": [
  {
   "cell_type": "code",
   "execution_count": null,
   "metadata": {},
   "outputs": [],
   "source": [
    "import pandas as pd\n",
    "import librosa\n",
    "import librosa.display\n",
    "import matplotlib.pyplot as plt\n",
    "import seaborn as sns\n",
    "\n",
    "# Load metadata\n",
    "df = pd.read_csv('../data/processed/audio_features.csv')\n",
    "\n",
    "# Basic statistics\n",
    "print(df.describe())\n",
    "\n",
    "# Plot sample waveform\n",
    "audio_file = '../data/raw/sample.wav'\n",
    "y, sr = librosa.load(audio_file, sr=16000)\n",
    "plt.figure(figsize=(10, 4))\n",
    "librosa.display.waveshow(y, sr=sr)\n",
    "plt.title('Waveform')\n",
    "plt.show()"
   ]
  },
  {
   "cell_type": "code",
   "execution_count": null,
   "metadata": {},
   "outputs": [],
   "source": [
    "import pandas as pd\n",
    "import librosa\n",
    "import librosa.display\n",
    "import matplotlib.pyplot as plt\n",
    "import seaborn as sns\n",
    "\n",
    "def load_dataset(file_path):\n",
    "    \"\"\"Load the dataset from a CSV file.\"\"\"\n",
    "    return pd.read_csv(file_path)\n",
    "\n",
    "def display_basic_statistics(df):\n",
    "    \"\"\"Display basic statistics of the dataset.\"\"\"\n",
    "    print(\"Basic Statistics:\")\n",
    "    print(df.describe())\n",
    "\n",
    "def visualize_waveform(audio_file):\n",
    "    \"\"\"Visualize the waveform of an audio file.\"\"\"\n",
    "    y, sr = librosa.load(audio_file, sr=16000)\n",
    "    plt.figure(figsize=(10, 4))\n",
    "    librosa.display.waveshow(y, sr=sr)\n",
    "    plt.title(\"Waveform\")\n",
    "    plt.show()\n",
    "\n",
    "def main():\n",
    "    dataset_path = '../data/processed/audio_features.csv'\n",
    "    sample_audio = '../data/raw/sample.wav'\n",
    "\n",
    "    # Load dataset\n",
    "    df = load_dataset(dataset_path)\n",
    "\n",
    "    # Display statistics\n",
    "    display_basic_statistics(df)\n",
    "\n",
    "    # Visualize sample waveform\n",
    "    visualize_waveform(sample_audio)\n",
    "\n",
    "if __name__ == \"__main__\":\n",
    "    main()"
   ]
  }
 ],
 "metadata": {
  "language_info": {
   "name": "python"
  },
  "orig_nbformat": 4
 },
 "nbformat": 4,
 "nbformat_minor": 2
}
