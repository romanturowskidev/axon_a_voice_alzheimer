{
 "cells": [
  {
   "cell_type": "code",
   "execution_count": null,
   "metadata": {},
   "outputs": [],
   "source": [
    "import librosa\n",
    "import numpy as np\n",
    "import pandas as pd\n",
    "import os\n",
    "\n",
    "def extract_features(file_path):\n",
    "    y, sr = librosa.load(file_path, sr=16000)\n",
    "    mfccs = np.mean(librosa.feature.mfcc(y=y, sr=sr, n_mfcc=13).T, axis=0)\n",
    "    return mfccs\n",
    "\n",
    "# Process all files\n",
    "data_dir = '../data/raw/'\n",
    "features = []\n",
    "for file in os.listdir(data_dir):\n",
    "    if file.endswith('.wav'):\n",
    "        features.append(extract_features(os.path.join(data_dir, file)))\n",
    "\n",
    "# Save features\n",
    "df = pd.DataFrame(features)\n",
    "df.to_csv('../data/processed/audio_features.csv', index=False)"
   ]
  },
  {
   "cell_type": "code",
   "execution_count": null,
   "metadata": {},
   "outputs": [],
   "source": [
    "import librosa\n",
    "import numpy as np\n",
    "import pandas as pd\n",
    "import os\n",
    "\n",
    "def extract_features(file_path):\n",
    "    \"\"\"Extract MFCC features from an audio file.\"\"\"\n",
    "    y, sr = librosa.load(file_path, sr=16000)\n",
    "    mfccs = np.mean(librosa.feature.mfcc(y=y, sr=sr, n_mfcc=13).T, axis=0)\n",
    "    return mfccs\n",
    "\n",
    "def process_dataset(data_dir, output_csv):\n",
    "    \"\"\"Process all audio files in a directory and save features to a CSV file.\"\"\"\n",
    "    output = []\n",
    "    for file_name in os.listdir(data_dir):\n",
    "        if file_name.endswith('.wav'):\n",
    "            file_path = os.path.join(data_dir, file_name)\n",
    "            features = extract_features(file_path)\n",
    "            output.append(features)\n",
    "    \n",
    "    df = pd.DataFrame(output)\n",
    "    df.to_csv(output_csv, index=False)\n",
    "\n",
    "if __name__ == \"__main__\":\n",
    "    data_dir = '../data/raw/'\n",
    "    output_csv = '../data/processed/audio_features.csv'\n",
    "    process_dataset(data_dir, output_csv)\n"
   ]
  }
 ],
 "metadata": {
  "language_info": {
   "name": "python"
  },
  "orig_nbformat": 4
 },
 "nbformat": 4,
 "nbformat_minor": 2
}
